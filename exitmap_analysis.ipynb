{
 "cells": [
  {
   "cell_type": "code",
   "execution_count": null,
   "metadata": {},
   "outputs": [],
   "source": [
    "#Exit nodes with malicious MITM attacks (maybe a table)"
   ]
  },
  {
   "cell_type": "code",
   "execution_count": null,
   "metadata": {},
   "outputs": [],
   "source": [
    "#Scanning Performance"
   ]
  },
  {
   "cell_type": "code",
   "execution_count": 60,
   "metadata": {},
   "outputs": [],
   "source": [
    "#DNS Resolvers of exit relays\n",
    "import pandas as pd\n",
    "df = pd.read_csv('/home/snape/exitmap/src/exit_resolvers.csv')"
   ]
  },
  {
   "cell_type": "code",
   "execution_count": 63,
   "metadata": {},
   "outputs": [
    {
     "data": {
      "text/html": [
       "<div>\n",
       "<style scoped>\n",
       "    .dataframe tbody tr th:only-of-type {\n",
       "        vertical-align: middle;\n",
       "    }\n",
       "\n",
       "    .dataframe tbody tr th {\n",
       "        vertical-align: top;\n",
       "    }\n",
       "\n",
       "    .dataframe thead th {\n",
       "        text-align: right;\n",
       "    }\n",
       "</style>\n",
       "<table border=\"1\" class=\"dataframe\">\n",
       "  <thead>\n",
       "    <tr style=\"text-align: right;\">\n",
       "      <th></th>\n",
       "      <th>percentage</th>\n",
       "    </tr>\n",
       "    <tr>\n",
       "      <th>company</th>\n",
       "      <th></th>\n",
       "    </tr>\n",
       "  </thead>\n",
       "  <tbody>\n",
       "    <tr>\n",
       "      <th>GOOGLE - Google LLC</th>\n",
       "      <td>24.543081</td>\n",
       "    </tr>\n",
       "    <tr>\n",
       "      <th>local</th>\n",
       "      <td>14.490862</td>\n",
       "    </tr>\n",
       "    <tr>\n",
       "      <th>CLOUDFLARENET - Cloudflare</th>\n",
       "      <td>7.832898</td>\n",
       "    </tr>\n",
       "    <tr>\n",
       "      <th>QUINTEX - Quintex Alliance Consulting</th>\n",
       "      <td>6.527415</td>\n",
       "    </tr>\n",
       "    <tr>\n",
       "      <th>EMERALD-ONION - Emerald Onion</th>\n",
       "      <td>5.352480</td>\n",
       "    </tr>\n",
       "    <tr>\n",
       "      <th>Others</th>\n",
       "      <td>35.117493</td>\n",
       "    </tr>\n",
       "  </tbody>\n",
       "</table>\n",
       "</div>"
      ],
      "text/plain": [
       "                                       percentage\n",
       "company                                          \n",
       "GOOGLE - Google LLC                     24.543081\n",
       "local                                   14.490862\n",
       "CLOUDFLARENET - Cloudflare               7.832898\n",
       "QUINTEX - Quintex Alliance Consulting    6.527415\n",
       "EMERALD-ONION - Emerald Onion            5.352480\n",
       "Others                                  35.117493"
      ]
     },
     "execution_count": 63,
     "metadata": {},
     "output_type": "execute_result"
    }
   ],
   "source": [
    "#DNS resolver company of exit relays\n",
    "total = df.count()[0]\n",
    "df['count'] = 0\n",
    "companies = df.groupby('company').count()[['count']]\n",
    "companies['total'] = total\n",
    "companies['percentage'] =  (companies['count']/companies['total'] ) * 100\n",
    "sorted_companies = companies.sort_values('percentage',ascending = False)[['percentage']]\n",
    "top_five_companies, other_companies = sorted_companies[:5],sorted_companies[5:]\n",
    "top_five_companies.loc['Others'] = other_companies.sum()\n",
    "over_view_companies = top_five_companies\n",
    "over_view_companies"
   ]
  },
  {
   "cell_type": "code",
   "execution_count": 62,
   "metadata": {},
   "outputs": [
    {
     "data": {
      "text/html": [
       "<div>\n",
       "<style scoped>\n",
       "    .dataframe tbody tr th:only-of-type {\n",
       "        vertical-align: middle;\n",
       "    }\n",
       "\n",
       "    .dataframe tbody tr th {\n",
       "        vertical-align: top;\n",
       "    }\n",
       "\n",
       "    .dataframe thead th {\n",
       "        text-align: right;\n",
       "    }\n",
       "</style>\n",
       "<table border=\"1\" class=\"dataframe\">\n",
       "  <thead>\n",
       "    <tr style=\"text-align: right;\">\n",
       "      <th></th>\n",
       "      <th>percentage</th>\n",
       "    </tr>\n",
       "    <tr>\n",
       "      <th>location</th>\n",
       "      <th></th>\n",
       "    </tr>\n",
       "  </thead>\n",
       "  <tbody>\n",
       "    <tr>\n",
       "      <th>US</th>\n",
       "      <td>55.352480</td>\n",
       "    </tr>\n",
       "    <tr>\n",
       "      <th>local</th>\n",
       "      <td>14.490862</td>\n",
       "    </tr>\n",
       "    <tr>\n",
       "      <th>FR</th>\n",
       "      <td>5.613577</td>\n",
       "    </tr>\n",
       "    <tr>\n",
       "      <th>DE</th>\n",
       "      <td>4.308094</td>\n",
       "    </tr>\n",
       "    <tr>\n",
       "      <th>MD</th>\n",
       "      <td>1.958225</td>\n",
       "    </tr>\n",
       "    <tr>\n",
       "      <th>Others</th>\n",
       "      <td>12.140992</td>\n",
       "    </tr>\n",
       "  </tbody>\n",
       "</table>\n",
       "</div>"
      ],
      "text/plain": [
       "          percentage\n",
       "location            \n",
       "US         55.352480\n",
       "local      14.490862\n",
       "FR          5.613577\n",
       "DE          4.308094\n",
       "MD          1.958225\n",
       "Others     12.140992"
      ]
     },
     "execution_count": 62,
     "metadata": {},
     "output_type": "execute_result"
    }
   ],
   "source": [
    "#DNS resolver location of exit relays\n",
    "\n",
    "df['count'] = 0\n",
    "locations = df.groupby('location').count()[['count']]\n",
    "locations['total'] = total\n",
    "locations['percentage'] =  (locations['count']/locations['total'] ) * 100\n",
    "sorted_locations = locations.sort_values('percentage',ascending = False)[['percentage']]\n",
    "top_five_locations, other_locations = sorted_locations[:5],sorted_locations[5:]\n",
    "top_five_locations.loc['Others'] = other_locations.sum()\n",
    "over_view_locations = top_five_locations\n",
    "over_view_locations"
   ]
  },
  {
   "cell_type": "code",
   "execution_count": null,
   "metadata": {},
   "outputs": [],
   "source": [
    "#DNSSEC failure rate (maybe also anaylsis their locations or whatever)"
   ]
  },
  {
   "cell_type": "code",
   "execution_count": null,
   "metadata": {},
   "outputs": [],
   "source": [
    "#Exit nodes DNS poison ()"
   ]
  }
 ],
 "metadata": {
  "kernelspec": {
   "display_name": "Python 3",
   "language": "python",
   "name": "python3"
  },
  "language_info": {
   "codemirror_mode": {
    "name": "ipython",
    "version": 3
   },
   "file_extension": ".py",
   "mimetype": "text/x-python",
   "name": "python",
   "nbconvert_exporter": "python",
   "pygments_lexer": "ipython3",
   "version": "3.6.8"
  }
 },
 "nbformat": 4,
 "nbformat_minor": 2
}
